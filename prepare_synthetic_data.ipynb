{
 "cells": [
  {
   "cell_type": "code",
   "execution_count": 1,
   "metadata": {},
   "outputs": [
    {
     "name": "stdout",
     "output_type": "stream",
     "text": [
      "/home/giakhang/dev/RDPN6D\n"
     ]
    }
   ],
   "source": [
    "!pwd"
   ]
  },
  {
   "cell_type": "code",
   "execution_count": 2,
   "metadata": {},
   "outputs": [],
   "source": [
    "import numpy as np\n",
    "import matplotlib.pyplot as plt\n",
    "import cv2\n",
    "import random\n",
    "import glob\n",
    "import os\n",
    "import shutil \n",
    "import os.path as osp\n",
    "from pathlib import Path\n",
    "import imageio\n",
    "from tqdm import tqdm\n",
    "import json\n",
    "from scipy.spatial.transform import Rotation\n",
    "import trimesh\n",
    "from scipy.spatial.distance import pdist"
   ]
  },
  {
   "cell_type": "markdown",
   "metadata": {},
   "source": [
    "# Raw -> RDPN6D"
   ]
  },
  {
   "cell_type": "code",
   "execution_count": 2,
   "metadata": {},
   "outputs": [],
   "source": [
    "def load_masks(mask_path):\n",
    "    mask_idxs = np.load(mask_path)\n",
    "    masks = np.zeros(shape=mask_idxs[0], dtype=np.uint8)\n",
    "    masks[mask_idxs[1:, 0], mask_idxs[1:, 1], mask_idxs[1:, 2]] = 1\n",
    "    return masks\n",
    "\n",
    "def draw_seg(image, annotations):\n",
    "    for ann in annotations:\n",
    "        x_min, y_min, x_max, y_max = ann[\"bbox\"]\n",
    "        polygon = ann[\"polygon\"]\n",
    "\n",
    "        # Draw bounding box\n",
    "        cv2.rectangle(image, (x_min, y_min), (x_max, y_max), (0, 255, 0), 2)\n",
    "\n",
    "        # Draw segmentation mask\n",
    "        cv2.polylines(image, [polygon], isClosed=True, color=(0, 0, 255), thickness=2)\n",
    "    \n",
    "    return image\n",
    "\n",
    "def mask_to_rgb(instance_masks):\n",
    "    \"\"\"\n",
    "    Convert an instance segmentation mask to an RGB image.\n",
    "    \n",
    "    Args:\n",
    "        instance_masks (np.array): Shape (num_instances, H, W), where each instance is a separate mask.\n",
    "\n",
    "    Returns:\n",
    "        np.array: RGB image with shape (H, W, 3).\n",
    "    \"\"\"\n",
    "    num_instances, H, W = instance_masks.shape\n",
    "    rgb_image = np.zeros((H, W, 3), dtype=np.uint8)\n",
    "\n",
    "    # Generate random colors for each instance\n",
    "    colors = [\n",
    "        (random.randint(0, 255), random.randint(0, 255), random.randint(0, 255))\n",
    "        for _ in range(num_instances)\n",
    "    ]\n",
    "\n",
    "    # Draw each instance with a different color\n",
    "    for i in range(num_instances):\n",
    "        mask = instance_masks[i]\n",
    "        color = colors[i]\n",
    "        for c in range(3):  # Apply color to all RGB channels\n",
    "            rgb_image[:, :, c] = np.where(mask > 0, color[c], rgb_image[:, :, c])\n",
    "\n",
    "    return rgb_image"
   ]
  },
  {
   "cell_type": "code",
   "execution_count": 3,
   "metadata": {},
   "outputs": [],
   "source": [
    "RAW_DATA_DIR = Path(\"/media/giakhang/OS/dataset/piano_6d/LUMI_BDDS_dataset\")\n",
    "NUM = 6\n",
    "SCENE_DIR = RAW_DATA_DIR / f\"synthetic_data{NUM}\"\n",
    "SRC_DEPTH_DIR = SCENE_DIR / \"depths\"\n",
    "\n",
    "DES_DIR = Path(\"/media/giakhang/OS/dataset/piano_6d/synthetic_data\")\n",
    "\n",
    "if not osp.exists(DES_DIR):\n",
    "    os.makedirs(DES_DIR)\n",
    "\n",
    "DES_DEPTH_DIR = DES_DIR / f\"synthetic_data{NUM}\" / \"depth\"\n",
    "os.makedirs(DES_DEPTH_DIR, exist_ok=True)"
   ]
  },
  {
   "cell_type": "code",
   "execution_count": 4,
   "metadata": {},
   "outputs": [
    {
     "name": "stderr",
     "output_type": "stream",
     "text": [
      "100%|██████████| 1362/1362 [03:15<00:00,  6.97it/s]\n"
     ]
    }
   ],
   "source": [
    "depth_paths = glob.glob(str(SRC_DEPTH_DIR / \"*.png\"))\n",
    "\n",
    "for f in tqdm(depth_paths):\n",
    "    depth = cv2.imread(str(f), -1).astype(np.uint16)\n",
    "    depth = depth[..., 0]\n",
    "    assert depth.shape == (720, 1280)\n",
    "    new_size = (1280 // 2, 720 // 2)\n",
    "    depth = cv2.resize(depth, new_size, interpolation=cv2.INTER_NEAREST)\n",
    "    assert depth.shape == (360, 640)\n",
    "    imageio.imwrite(DES_DEPTH_DIR / f.split(\"/\")[-1], depth)"
   ]
  },
  {
   "cell_type": "code",
   "execution_count": null,
   "metadata": {},
   "outputs": [],
   "source": []
  },
  {
   "cell_type": "code",
   "execution_count": null,
   "metadata": {},
   "outputs": [],
   "source": []
  },
  {
   "cell_type": "code",
   "execution_count": 5,
   "metadata": {},
   "outputs": [],
   "source": [
    "SRC_RGB_DIR = SCENE_DIR / \"images\"\n",
    "\n",
    "DES_RGB_DIR = DES_DIR / f\"synthetic_data{NUM}\" / \"rgb\"\n",
    "os.makedirs(DES_RGB_DIR, exist_ok=True)"
   ]
  },
  {
   "cell_type": "code",
   "execution_count": 6,
   "metadata": {},
   "outputs": [
    {
     "name": "stderr",
     "output_type": "stream",
     "text": [
      "100%|██████████| 1362/1362 [10:33<00:00,  2.15it/s]\n"
     ]
    }
   ],
   "source": [
    "rgb_paths = glob.glob(str(SRC_RGB_DIR / \"*.png\"))\n",
    "\n",
    "for f in tqdm(rgb_paths):\n",
    "    img = cv2.imread(str(f))\n",
    "    assert img.shape[:2] == (720, 1280)\n",
    "    new_size = (1280 // 2, 720 // 2)\n",
    "    img = cv2.resize(img, new_size)\n",
    "    assert img.shape[:2] == (360, 640)\n",
    "    imageio.imwrite(DES_RGB_DIR / f.split(\"/\")[-1], img)"
   ]
  },
  {
   "cell_type": "code",
   "execution_count": null,
   "metadata": {},
   "outputs": [],
   "source": []
  },
  {
   "cell_type": "code",
   "execution_count": null,
   "metadata": {},
   "outputs": [],
   "source": []
  },
  {
   "cell_type": "code",
   "execution_count": 7,
   "metadata": {},
   "outputs": [],
   "source": [
    "SRC_MASK_DIR = SCENE_DIR / \"masks\"\n",
    "\n",
    "DES_MASK_DIR = DES_DIR / f\"synthetic_data{NUM}\" / \"mask\"\n",
    "DES_MASK_VISIB_DIR = DES_DIR / f\"synthetic_data{NUM}\" / \"mask_visib\"\n",
    "\n",
    "os.makedirs(DES_MASK_DIR, exist_ok=True)\n",
    "os.makedirs(DES_MASK_VISIB_DIR, exist_ok=True)"
   ]
  },
  {
   "cell_type": "code",
   "execution_count": 8,
   "metadata": {},
   "outputs": [
    {
     "name": "stderr",
     "output_type": "stream",
     "text": [
      "  0%|          | 0/1362 [00:00<?, ?it/s]"
     ]
    },
    {
     "name": "stderr",
     "output_type": "stream",
     "text": [
      "100%|██████████| 1362/1362 [00:47<00:00, 28.95it/s]\n"
     ]
    }
   ],
   "source": [
    "rgb_filenames = os.listdir(SRC_RGB_DIR)\n",
    "rgb_filenames = [f for f in rgb_filenames if f.endswith(\".png\")]\n",
    "\n",
    "for fn in tqdm(rgb_filenames):\n",
    "    int_img_idx = int(fn[:-4])\n",
    "    raw_mask_f = SRC_MASK_DIR / fn.replace(\"png\", \"npy\")\n",
    "    mask = load_masks(raw_mask_f)\n",
    "    num_ins = mask.shape[0]\n",
    "    for ins_idx in range(num_ins):\n",
    "        ins = mask[ins_idx, ...].copy()\n",
    "        ins = ins.astype(np.uint8)\n",
    "        ins[ins == 1] = 255\n",
    "\n",
    "        assert ins.shape == (720, 1280)\n",
    "        new_size = (1280 // 2, 720 // 2)\n",
    "        ins = cv2.resize(ins, new_size, interpolation=cv2.INTER_NEAREST)\n",
    "        assert img.shape[:2] == (360, 640)\n",
    "        if np.sum(ins) != 0:\n",
    "            assert np.unique(ins).tolist() == [0, 255]\n",
    "\n",
    "        cv2.imwrite(str(DES_MASK_DIR / f\"{int_img_idx:05d}_{ins_idx:05d}.png\"), ins)\n",
    "        cv2.imwrite(str(DES_MASK_VISIB_DIR / f\"{int_img_idx:05d}_{ins_idx:05d}.png\"), ins)"
   ]
  },
  {
   "cell_type": "code",
   "execution_count": null,
   "metadata": {},
   "outputs": [],
   "source": []
  },
  {
   "cell_type": "code",
   "execution_count": null,
   "metadata": {},
   "outputs": [],
   "source": []
  },
  {
   "cell_type": "code",
   "execution_count": null,
   "metadata": {},
   "outputs": [],
   "source": []
  },
  {
   "cell_type": "code",
   "execution_count": null,
   "metadata": {},
   "outputs": [],
   "source": []
  },
  {
   "cell_type": "code",
   "execution_count": 9,
   "metadata": {},
   "outputs": [
    {
     "name": "stderr",
     "output_type": "stream",
     "text": [
      "100%|██████████| 1362/1362 [00:00<00:00, 2155.27it/s]\n"
     ]
    }
   ],
   "source": [
    "scene_camera_file = DES_DIR / f\"synthetic_data{NUM}\" / \"scene_camera.json\"\n",
    "\n",
    "img_idxs = sorted([int(fn[:-4]) for fn in rgb_filenames])\n",
    "\n",
    "scene_camera = dict()\n",
    "\n",
    "for img_idx in tqdm(img_idxs):\n",
    "    src_file = str(SCENE_DIR / \"metas\" / f\"{img_idx:05d}.json\")\n",
    "    with open(src_file, \"r\") as f:\n",
    "        annot = json.load(f)\n",
    "\n",
    "\n",
    "    intr = np.identity(3, dtype=np.float32)\n",
    "    fx = annot[\"camera_info\"][\"intrinsics\"][\"fx\"] / 2\n",
    "    fy = annot[\"camera_info\"][\"intrinsics\"][\"fy\"] / 2\n",
    "    cx = annot[\"camera_info\"][\"intrinsics\"][\"cx\"] / 2\n",
    "    cy = annot[\"camera_info\"][\"intrinsics\"][\"cy\"] / 2\n",
    "    depth_scale = annot[\"camera_info\"][\"intrinsics\"][\"depth_scale\"]\n",
    "\n",
    "    intr[0, 0] = fx\n",
    "    intr[0, -1] = cx\n",
    "    intr[1, 1] = fy\n",
    "    intr[1, -1] = cy\n",
    "\n",
    "    scene_camera[str(img_idx)] = {\n",
    "        \"cam_K\": intr.flatten().tolist(),\n",
    "        \"depth_scale\": depth_scale\n",
    "    }\n",
    "\n",
    "with open(scene_camera_file, \"w\") as f:\n",
    "    json.dump(scene_camera, f)\n",
    "    "
   ]
  },
  {
   "cell_type": "code",
   "execution_count": null,
   "metadata": {},
   "outputs": [],
   "source": []
  },
  {
   "cell_type": "code",
   "execution_count": null,
   "metadata": {},
   "outputs": [],
   "source": []
  },
  {
   "cell_type": "code",
   "execution_count": 10,
   "metadata": {},
   "outputs": [
    {
     "name": "stderr",
     "output_type": "stream",
     "text": [
      "100%|██████████| 1362/1362 [01:11<00:00, 19.07it/s]\n"
     ]
    }
   ],
   "source": [
    "scene_gt_info_file = DES_DIR / f\"synthetic_data{NUM}\" / \"scene_gt_info.json\"\n",
    "\n",
    "img_idxs = sorted([int(fn[:-4]) for fn in rgb_filenames])\n",
    "\n",
    "scene_gt_info = dict()\n",
    "\n",
    "for img_idx in tqdm(img_idxs):\n",
    "    mask_file = SCENE_DIR / \"masks\" / f\"{img_idx:05d}.npy\"\n",
    "    mask = load_masks(mask_file)\n",
    "\n",
    "    gt = []\n",
    "    for ins_idx in range(mask.shape[0]):\n",
    "        m = mask[ins_idx, ...].copy()\n",
    "\n",
    "        assert m.shape == (720, 1280)\n",
    "        new_size = (1280 // 2, 720 // 2)\n",
    "        m = cv2.resize(m, new_size, interpolation=cv2.INTER_NEAREST)\n",
    "        assert img.shape[:2] == (360, 640)\n",
    "\n",
    "        if int(np.sum(m).item()) == 0:\n",
    "            gt.append({\n",
    "                \"bbox_obj\": [-1, -1, -1, -1],\n",
    "                \"bbox_visib\": [-1, -1, -1, -1],\n",
    "                \"px_count_all\": 0.0, \n",
    "                \"px_count_valid\": 0.0, \n",
    "                \"px_count_visib\": 0.0, \n",
    "                \"visib_fract\": 0.0\n",
    "            })\n",
    "            continue\n",
    "\n",
    "        assert np.unique(m).tolist() == [0, 1], np.unique(m).tolist()\n",
    "        y, x = np.where(m)\n",
    "        x1, y1, x2, y2 = int(min(x)), int(min(y)), int(max(x)), int(max(y))\n",
    "        w = x2 - x1\n",
    "        h = y2 - y1\n",
    "        px_count_all = int(np.sum(m).item())\n",
    "        px_count_valid = int(np.sum(m).item())\n",
    "        px_count_visib = int(np.sum(m).item())\n",
    "        visib_fract = px_count_visib / px_count_valid\n",
    "        gt.append({\n",
    "            \"bbox_obj\": [int(x1), int(y1), int(w), int(h)],\n",
    "            \"bbox_visib\": [int(x1), int(y1), int(w), int(h)],\n",
    "            \"px_count_all\": px_count_valid, \n",
    "            \"px_count_valid\": px_count_valid, \n",
    "            \"px_count_visib\": px_count_visib, \n",
    "            \"visib_fract\": visib_fract\n",
    "        })\n",
    "    \n",
    "    scene_gt_info[str(img_idx)] = gt\n",
    "\n",
    "with open(scene_gt_info_file, \"w\") as f:\n",
    "    json.dump(scene_gt_info, f)"
   ]
  },
  {
   "cell_type": "code",
   "execution_count": null,
   "metadata": {},
   "outputs": [],
   "source": []
  },
  {
   "cell_type": "code",
   "execution_count": null,
   "metadata": {},
   "outputs": [],
   "source": []
  },
  {
   "cell_type": "code",
   "execution_count": 11,
   "metadata": {},
   "outputs": [],
   "source": [
    "def format_rotation(rot_mat):\n",
    "    rot_t = Rotation.from_euler('xyz', [np.pi / 2, 0, 0]).as_matrix()\n",
    "    return np.dot(rot_mat, rot_t)"
   ]
  },
  {
   "cell_type": "code",
   "execution_count": 12,
   "metadata": {},
   "outputs": [
    {
     "name": "stderr",
     "output_type": "stream",
     "text": [
      "100%|██████████| 1362/1362 [00:00<00:00, 2352.25it/s]\n"
     ]
    }
   ],
   "source": [
    "scene_gt_file = DES_DIR / f\"synthetic_data{NUM}\" / \"scene_gt.json\"\n",
    "\n",
    "img_idxs = sorted([int(fn[:-4]) for fn in rgb_filenames])\n",
    "\n",
    "scene_gt = dict()\n",
    "\n",
    "for img_idx in tqdm(img_idxs):\n",
    "    raw_gt_file = str(SCENE_DIR / \"metas\" / f\"{img_idx:05d}.json\")\n",
    "    with open(raw_gt_file, \"r\") as f:\n",
    "        annot = json.load(f)\n",
    "    \n",
    "    obj_infos = annot[\"object_infos\"]\n",
    "    num_ins = len(obj_infos)\n",
    "\n",
    "    gt = []\n",
    "    for ins_idx in range(num_ins):\n",
    "        obj_info = obj_infos[ins_idx]\n",
    "        gt.append({\n",
    "            \"cam_R_m2c\": format_rotation(np.array(obj_info[\"cam_R_m2c\"], dtype=np.float32)).flatten().tolist(),\n",
    "            \"cam_t_m2c\": (np.array(obj_info[\"cam_t_m2c\"], dtype=np.float32) * 1000).tolist(),\n",
    "            \"obj_id\": 1\n",
    "        })\n",
    "\n",
    "    scene_gt[str(img_idx)] = gt\n",
    "\n",
    "with open(scene_gt_file, \"w\") as f:\n",
    "    json.dump(scene_gt, f)"
   ]
  },
  {
   "cell_type": "code",
   "execution_count": null,
   "metadata": {},
   "outputs": [],
   "source": []
  },
  {
   "cell_type": "code",
   "execution_count": null,
   "metadata": {},
   "outputs": [],
   "source": []
  },
  {
   "cell_type": "markdown",
   "metadata": {},
   "source": [
    "# RDPN6D requires"
   ]
  },
  {
   "cell_type": "code",
   "execution_count": 13,
   "metadata": {},
   "outputs": [],
   "source": [
    "!ln -s /media/giakhang/OS/dataset/piano_6d/synthetic_data/synthetic_data6 ./datasets/syn_lumi_piano_dataset/data"
   ]
  },
  {
   "cell_type": "code",
   "execution_count": 23,
   "metadata": {},
   "outputs": [],
   "source": [
    "num = 6\n",
    "\n",
    "src_dir = Path(f\"/home/giakhang/dev/RDPN6D/datasets/syn_lumi_piano_dataset/data/synthetic_data{num}\") \n",
    "\n",
    "rgb_dir = src_dir / \"rgb\""
   ]
  },
  {
   "cell_type": "code",
   "execution_count": 24,
   "metadata": {},
   "outputs": [],
   "source": [
    "rgb_files = os.listdir(rgb_dir)\n",
    "rgb_files = [f for f in rgb_files if f.endswith(\".png\")]\n",
    "rgb_files = sorted([f[:-4] for f in rgb_files])"
   ]
  },
  {
   "cell_type": "code",
   "execution_count": 25,
   "metadata": {},
   "outputs": [],
   "source": [
    "image_set_dir = Path(f\"/media/giakhang/OS/dataset/piano_6d/synthetic_data/synthetic_data{num}/image_set\")\n",
    "\n",
    "os.makedirs(image_set_dir, exist_ok=True)\n",
    "\n",
    "syn_lumi_piano_all_file = image_set_dir / \"syn_lumi_piano_all.txt\"\n",
    "syn_lumi_piano_train_file = image_set_dir / \"syn_lumi_piano_train.txt\""
   ]
  },
  {
   "cell_type": "code",
   "execution_count": 26,
   "metadata": {},
   "outputs": [],
   "source": [
    "with open(syn_lumi_piano_all_file, \"w\") as file:\n",
    "    file.writelines([f\"{value}\\n\" for value in rgb_files])"
   ]
  },
  {
   "cell_type": "code",
   "execution_count": 27,
   "metadata": {},
   "outputs": [],
   "source": [
    "with open(syn_lumi_piano_train_file, \"w\") as file:\n",
    "    file.writelines([f\"{value}\\n\" for value in rgb_files])"
   ]
  },
  {
   "cell_type": "code",
   "execution_count": 2,
   "metadata": {},
   "outputs": [],
   "source": [
    "def get_model_info(file_path):\n",
    "    mesh = trimesh.load(file_path)\n",
    "\n",
    "    # Get bounding box extents\n",
    "    min_bounds = mesh.bounds[0]\n",
    "    max_bounds = mesh.bounds[1]\n",
    "    \n",
    "    size_x, size_y, size_z = max_bounds - min_bounds\n",
    "    min_x, min_y, min_z = min_bounds\n",
    "\n",
    "    # Compute diameter as the max pairwise Euclidean distance between vertices\n",
    "    vertices = mesh.vertices\n",
    "    diameter = np.max(pdist(vertices))  # Computes all pairwise distances\n",
    "\n",
    "    return {\n",
    "        \"diameter\": float(round(diameter, 6)),\n",
    "        \"min_x\": float(round(min_x, 6)),\n",
    "        \"min_y\": float(round(min_y, 6)),\n",
    "        \"min_z\": float(round(min_z, 6)),\n",
    "        \"size_x\": float(round(size_x, 6)),\n",
    "        \"size_y\": float(round(size_y, 6)),\n",
    "        \"size_z\": float(round(size_z, 6)),\n",
    "    }"
   ]
  },
  {
   "cell_type": "code",
   "execution_count": 5,
   "metadata": {},
   "outputs": [
    {
     "name": "stdout",
     "output_type": "stream",
     "text": [
      "{'diameter': 0.314086, 'min_x': -0.1414, 'min_y': -0.0129, 'min_z': -0.0706, 'size_x': 0.2824, 'size_y': 0.0258, 'size_z': 0.1412}\n"
     ]
    }
   ],
   "source": [
    "print(get_model_info(\"/home/giakhang/dev/RDPN6D/datasets/lumi_piano_dataset/models/obj_000001.ply\"))"
   ]
  },
  {
   "cell_type": "code",
   "execution_count": null,
   "metadata": {},
   "outputs": [],
   "source": []
  }
 ],
 "metadata": {
  "kernelspec": {
   "display_name": "rdpn6d",
   "language": "python",
   "name": "python3"
  },
  "language_info": {
   "codemirror_mode": {
    "name": "ipython",
    "version": 3
   },
   "file_extension": ".py",
   "mimetype": "text/x-python",
   "name": "python",
   "nbconvert_exporter": "python",
   "pygments_lexer": "ipython3",
   "version": "3.9.21"
  }
 },
 "nbformat": 4,
 "nbformat_minor": 2
}
